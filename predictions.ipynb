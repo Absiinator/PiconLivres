{
 "metadata": {
  "language_info": {
   "codemirror_mode": {
    "name": "ipython",
    "version": 3
   },
   "file_extension": ".py",
   "mimetype": "text/x-python",
   "name": "python",
   "nbconvert_exporter": "python",
   "pygments_lexer": "ipython3",
   "version": "3.8.5"
  },
  "orig_nbformat": 2,
  "kernelspec": {
   "name": "python38564bit07e184a7fe43479d8258d0088d6bd16d",
   "display_name": "Python 3.8.5 64-bit"
  },
  "metadata": {
   "interpreter": {
    "hash": "31f2aee4e71d21fbe5cf8b01ff0e069b9275f58929596ceb00d14d90e3e16cd6"
   }
  }
 },
 "nbformat": 4,
 "nbformat_minor": 2,
 "cells": [
  {
   "cell_type": "code",
   "execution_count": 1,
   "metadata": {},
   "outputs": [
    {
     "output_type": "execute_result",
     "data": {
      "text/plain": [
       "         user_id  book_id  rating\n",
       "5976474    49925      510       5\n",
       "5976475    49925      528       4\n",
       "5976476    49925      722       4\n",
       "5976477    49925      949       5\n",
       "5976478    49925     1023       4"
      ],
      "text/html": "<div>\n<style scoped>\n    .dataframe tbody tr th:only-of-type {\n        vertical-align: middle;\n    }\n\n    .dataframe tbody tr th {\n        vertical-align: top;\n    }\n\n    .dataframe thead th {\n        text-align: right;\n    }\n</style>\n<table border=\"1\" class=\"dataframe\">\n  <thead>\n    <tr style=\"text-align: right;\">\n      <th></th>\n      <th>user_id</th>\n      <th>book_id</th>\n      <th>rating</th>\n    </tr>\n  </thead>\n  <tbody>\n    <tr>\n      <th>5976474</th>\n      <td>49925</td>\n      <td>510</td>\n      <td>5</td>\n    </tr>\n    <tr>\n      <th>5976475</th>\n      <td>49925</td>\n      <td>528</td>\n      <td>4</td>\n    </tr>\n    <tr>\n      <th>5976476</th>\n      <td>49925</td>\n      <td>722</td>\n      <td>4</td>\n    </tr>\n    <tr>\n      <th>5976477</th>\n      <td>49925</td>\n      <td>949</td>\n      <td>5</td>\n    </tr>\n    <tr>\n      <th>5976478</th>\n      <td>49925</td>\n      <td>1023</td>\n      <td>4</td>\n    </tr>\n  </tbody>\n</table>\n</div>"
     },
     "metadata": {},
     "execution_count": 1
    }
   ],
   "source": [
    "from pickle5 import pickle\n",
    "import pandas as pd\n",
    "\n",
    "r = pd.read_csv('data/ratings.csv')\n",
    "r.tail()"
   ]
  },
  {
   "cell_type": "code",
   "execution_count": 2,
   "metadata": {},
   "outputs": [
    {
     "output_type": "stream",
     "name": "stdout",
     "text": [
      "model was successfully loaded\n"
     ]
    }
   ],
   "source": [
    "pkl_filename = \"SVDmodel.pkl\"\n",
    "# Load from file\n",
    "with open(pkl_filename, 'rb') as file:\n",
    "    pickle_model = pickle.load(file)\n",
    "\n",
    "print(\"model was successfully loaded\")"
   ]
  },
  {
   "cell_type": "code",
   "execution_count": 3,
   "metadata": {},
   "outputs": [],
   "source": [
    "from surprise.model_selection import train_test_split\n",
    "from surprise import Reader, Dataset\n",
    "from random import sample\n",
    "\n",
    "reader = Reader(rating_scale=(1, 5))\n",
    "data = Dataset.load_from_df(r[['user_id', 'book_id', 'rating']], reader)\n",
    "trainset, testset = train_test_split(data, test_size=0.15)"
   ]
  },
  {
   "cell_type": "code",
   "execution_count": 4,
   "metadata": {},
   "outputs": [
    {
     "output_type": "stream",
     "name": "stdout",
     "text": [
      "[(37872, 2731, 4.0)]\n"
     ]
    }
   ],
   "source": [
    "test_example = sample(testset, 1)\n",
    "print(test_example)"
   ]
  },
  {
   "cell_type": "code",
   "execution_count": 12,
   "metadata": {
    "tags": []
   },
   "outputs": [
    {
     "output_type": "stream",
     "name": "stdout",
     "text": [
      "[Prediction(uid=37872, iid=2731, r_ui=4.0, est=3.7505202619100673, details={'was_impossible': False})]\n"
     ]
    }
   ],
   "source": [
    "results = pickle_model.test(test_example)\n",
    "print(results)"
   ]
  }
 ]
}