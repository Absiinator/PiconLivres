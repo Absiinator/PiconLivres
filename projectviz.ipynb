{
  "nbformat": 4,
  "nbformat_minor": 0,
  "metadata": {
    "language_info": {
      "codemirror_mode": {
        "name": "ipython",
        "version": 3
      },
      "file_extension": ".py",
      "mimetype": "text/x-python",
      "name": "python",
      "nbconvert_exporter": "python",
      "pygments_lexer": "ipython3",
      "version": "3.8.5-final"
    },
    "orig_nbformat": 2,
    "kernelspec": {
      "name": "python38564bit07e184a7fe43479d8258d0088d6bd16d",
      "display_name": "Python 3.8.5 64-bit"
    },
    "metadata": {
      "interpreter": {
        "hash": "31f2aee4e71d21fbe5cf8b01ff0e069b9275f58929596ceb00d14d90e3e16cd6"
      }
    },
    "colab": {
      "name": "projectviz.ipynb",
      "provenance": []
    }
  },
  "cells": [
    {
      "cell_type": "code",
      "metadata": {
        "id": "eLrBaYIXZHqA"
      },
      "source": [
        "import pandas as pd\n",
        "\n",
        "b = pd.read_csv('/content/drive/MyDrive/data/books.csv')\n",
        "bt = pd.read_csv('/content/drive/MyDrive/data/book_tags.csv')\n",
        "t = pd.read_csv('/content/drive/MyDrive/data/tags.csv')"
      ],
      "execution_count": 2,
      "outputs": []
    },
    {
      "cell_type": "code",
      "metadata": {
        "colab": {
          "base_uri": "https://localhost:8080/",
          "height": 173
        },
        "id": "5yr3V00oZHqD",
        "outputId": "31df01c5-59ec-4a4b-e794-44353181d52b"
      },
      "source": [
        "t.head(4)"
      ],
      "execution_count": 3,
      "outputs": [
        {
          "output_type": "execute_result",
          "data": {
            "text/html": [
              "<div>\n",
              "<style scoped>\n",
              "    .dataframe tbody tr th:only-of-type {\n",
              "        vertical-align: middle;\n",
              "    }\n",
              "\n",
              "    .dataframe tbody tr th {\n",
              "        vertical-align: top;\n",
              "    }\n",
              "\n",
              "    .dataframe thead th {\n",
              "        text-align: right;\n",
              "    }\n",
              "</style>\n",
              "<table border=\"1\" class=\"dataframe\">\n",
              "  <thead>\n",
              "    <tr style=\"text-align: right;\">\n",
              "      <th></th>\n",
              "      <th>tag_id</th>\n",
              "      <th>tag_name</th>\n",
              "    </tr>\n",
              "  </thead>\n",
              "  <tbody>\n",
              "    <tr>\n",
              "      <th>0</th>\n",
              "      <td>0</td>\n",
              "      <td>-</td>\n",
              "    </tr>\n",
              "    <tr>\n",
              "      <th>1</th>\n",
              "      <td>1</td>\n",
              "      <td>--1-</td>\n",
              "    </tr>\n",
              "    <tr>\n",
              "      <th>2</th>\n",
              "      <td>2</td>\n",
              "      <td>--10-</td>\n",
              "    </tr>\n",
              "    <tr>\n",
              "      <th>3</th>\n",
              "      <td>3</td>\n",
              "      <td>--12-</td>\n",
              "    </tr>\n",
              "  </tbody>\n",
              "</table>\n",
              "</div>"
            ],
            "text/plain": [
              "   tag_id tag_name\n",
              "0       0        -\n",
              "1       1     --1-\n",
              "2       2    --10-\n",
              "3       3    --12-"
            ]
          },
          "metadata": {
            "tags": []
          },
          "execution_count": 3
        }
      ]
    },
    {
      "cell_type": "code",
      "metadata": {
        "colab": {
          "base_uri": "https://localhost:8080/",
          "height": 173
        },
        "id": "bnn8vWYCZHqE",
        "outputId": "9c5fce52-c991-49ba-d9fd-2e755d25a556"
      },
      "source": [
        "bt.head(4)"
      ],
      "execution_count": 4,
      "outputs": [
        {
          "output_type": "execute_result",
          "data": {
            "text/html": [
              "<div>\n",
              "<style scoped>\n",
              "    .dataframe tbody tr th:only-of-type {\n",
              "        vertical-align: middle;\n",
              "    }\n",
              "\n",
              "    .dataframe tbody tr th {\n",
              "        vertical-align: top;\n",
              "    }\n",
              "\n",
              "    .dataframe thead th {\n",
              "        text-align: right;\n",
              "    }\n",
              "</style>\n",
              "<table border=\"1\" class=\"dataframe\">\n",
              "  <thead>\n",
              "    <tr style=\"text-align: right;\">\n",
              "      <th></th>\n",
              "      <th>goodreads_book_id</th>\n",
              "      <th>tag_id</th>\n",
              "      <th>count</th>\n",
              "    </tr>\n",
              "  </thead>\n",
              "  <tbody>\n",
              "    <tr>\n",
              "      <th>0</th>\n",
              "      <td>1</td>\n",
              "      <td>30574</td>\n",
              "      <td>167697</td>\n",
              "    </tr>\n",
              "    <tr>\n",
              "      <th>1</th>\n",
              "      <td>1</td>\n",
              "      <td>11305</td>\n",
              "      <td>37174</td>\n",
              "    </tr>\n",
              "    <tr>\n",
              "      <th>2</th>\n",
              "      <td>1</td>\n",
              "      <td>11557</td>\n",
              "      <td>34173</td>\n",
              "    </tr>\n",
              "    <tr>\n",
              "      <th>3</th>\n",
              "      <td>1</td>\n",
              "      <td>8717</td>\n",
              "      <td>12986</td>\n",
              "    </tr>\n",
              "  </tbody>\n",
              "</table>\n",
              "</div>"
            ],
            "text/plain": [
              "   goodreads_book_id  tag_id   count\n",
              "0                  1   30574  167697\n",
              "1                  1   11305   37174\n",
              "2                  1   11557   34173\n",
              "3                  1    8717   12986"
            ]
          },
          "metadata": {
            "tags": []
          },
          "execution_count": 4
        }
      ]
    },
    {
      "cell_type": "code",
      "metadata": {
        "colab": {
          "base_uri": "https://localhost:8080/"
        },
        "id": "DveKmBv-ZHqF",
        "outputId": "49991ea2-9863-4039-e6b2-58b2d65a05e5"
      },
      "source": [
        "bt['goodreads_book_id'].nunique()"
      ],
      "execution_count": 5,
      "outputs": [
        {
          "output_type": "execute_result",
          "data": {
            "text/plain": [
              "10000"
            ]
          },
          "metadata": {
            "tags": []
          },
          "execution_count": 5
        }
      ]
    },
    {
      "cell_type": "code",
      "metadata": {
        "colab": {
          "base_uri": "https://localhost:8080/",
          "height": 515
        },
        "id": "rrTaY33ZZHqG",
        "outputId": "fb501f73-d42c-48c7-d41d-bbf04bbaf6cd"
      },
      "source": [
        "bts = pd.merge(left=t, right=bt, how=\"left\", on=\"tag_id\")\n",
        "ti_df = pd.DataFrame(b[['goodreads_book_id', 'original_title', 'ratings_count','work_ratings_count', 'work_text_reviews_count', 'ratings_1', 'ratings_2', 'ratings_3', 'ratings_4', 'ratings_5']])\n",
        "nbts = pd.merge(left=bts, right=ti_df, how=\"left\", on=\"goodreads_book_id\")\n",
        "nbts.drop(bts.loc[bts['count']<0].index, inplace=True)\n",
        "\n",
        "nbts.sort_values(by='count', ascending=False).head(10)"
      ],
      "execution_count": 6,
      "outputs": [
        {
          "output_type": "execute_result",
          "data": {
            "text/html": [
              "<div>\n",
              "<style scoped>\n",
              "    .dataframe tbody tr th:only-of-type {\n",
              "        vertical-align: middle;\n",
              "    }\n",
              "\n",
              "    .dataframe tbody tr th {\n",
              "        vertical-align: top;\n",
              "    }\n",
              "\n",
              "    .dataframe thead th {\n",
              "        text-align: right;\n",
              "    }\n",
              "</style>\n",
              "<table border=\"1\" class=\"dataframe\">\n",
              "  <thead>\n",
              "    <tr style=\"text-align: right;\">\n",
              "      <th></th>\n",
              "      <th>tag_id</th>\n",
              "      <th>tag_name</th>\n",
              "      <th>goodreads_book_id</th>\n",
              "      <th>count</th>\n",
              "      <th>original_title</th>\n",
              "      <th>ratings_count</th>\n",
              "      <th>work_ratings_count</th>\n",
              "      <th>work_text_reviews_count</th>\n",
              "      <th>ratings_1</th>\n",
              "      <th>ratings_2</th>\n",
              "      <th>ratings_3</th>\n",
              "      <th>ratings_4</th>\n",
              "      <th>ratings_5</th>\n",
              "    </tr>\n",
              "  </thead>\n",
              "  <tbody>\n",
              "    <tr>\n",
              "      <th>918089</th>\n",
              "      <td>30574</td>\n",
              "      <td>to-read</td>\n",
              "      <td>865</td>\n",
              "      <td>596234</td>\n",
              "      <td>O Alquimista</td>\n",
              "      <td>1299566</td>\n",
              "      <td>1403995</td>\n",
              "      <td>55781</td>\n",
              "      <td>74846</td>\n",
              "      <td>123614</td>\n",
              "      <td>289143</td>\n",
              "      <td>412180</td>\n",
              "      <td>504212</td>\n",
              "    </tr>\n",
              "    <tr>\n",
              "      <th>924145</th>\n",
              "      <td>30574</td>\n",
              "      <td>to-read</td>\n",
              "      <td>2429135</td>\n",
              "      <td>586235</td>\n",
              "      <td>Män som hatar kvinnor</td>\n",
              "      <td>1808403</td>\n",
              "      <td>1929834</td>\n",
              "      <td>62543</td>\n",
              "      <td>54835</td>\n",
              "      <td>86051</td>\n",
              "      <td>285413</td>\n",
              "      <td>667485</td>\n",
              "      <td>836050</td>\n",
              "    </tr>\n",
              "    <tr>\n",
              "      <th>927113</th>\n",
              "      <td>30574</td>\n",
              "      <td>to-read</td>\n",
              "      <td>18143977</td>\n",
              "      <td>505884</td>\n",
              "      <td>NaN</td>\n",
              "      <td>470001</td>\n",
              "      <td>547827</td>\n",
              "      <td>53413</td>\n",
              "      <td>6209</td>\n",
              "      <td>14527</td>\n",
              "      <td>61020</td>\n",
              "      <td>185239</td>\n",
              "      <td>280832</td>\n",
              "    </tr>\n",
              "    <tr>\n",
              "      <th>918007</th>\n",
              "      <td>30574</td>\n",
              "      <td>to-read</td>\n",
              "      <td>3</td>\n",
              "      <td>496107</td>\n",
              "      <td>Harry Potter and the Philosopher's Stone</td>\n",
              "      <td>4602479</td>\n",
              "      <td>4800065</td>\n",
              "      <td>75867</td>\n",
              "      <td>75504</td>\n",
              "      <td>101676</td>\n",
              "      <td>455024</td>\n",
              "      <td>1156318</td>\n",
              "      <td>3011543</td>\n",
              "    </tr>\n",
              "    <tr>\n",
              "      <th>919676</th>\n",
              "      <td>30574</td>\n",
              "      <td>to-read</td>\n",
              "      <td>24280</td>\n",
              "      <td>488469</td>\n",
              "      <td>Les Misérables</td>\n",
              "      <td>513407</td>\n",
              "      <td>560132</td>\n",
              "      <td>12505</td>\n",
              "      <td>15225</td>\n",
              "      <td>25914</td>\n",
              "      <td>87461</td>\n",
              "      <td>167385</td>\n",
              "      <td>264147</td>\n",
              "    </tr>\n",
              "    <tr>\n",
              "      <th>925851</th>\n",
              "      <td>30574</td>\n",
              "      <td>to-read</td>\n",
              "      <td>11235712</td>\n",
              "      <td>474954</td>\n",
              "      <td>Cinder</td>\n",
              "      <td>427663</td>\n",
              "      <td>454146</td>\n",
              "      <td>41109</td>\n",
              "      <td>12154</td>\n",
              "      <td>18256</td>\n",
              "      <td>66180</td>\n",
              "      <td>150914</td>\n",
              "      <td>206642</td>\n",
              "    </tr>\n",
              "    <tr>\n",
              "      <th>922115</th>\n",
              "      <td>30574</td>\n",
              "      <td>to-read</td>\n",
              "      <td>168668</td>\n",
              "      <td>465640</td>\n",
              "      <td>Catch-22</td>\n",
              "      <td>563265</td>\n",
              "      <td>582515</td>\n",
              "      <td>13734</td>\n",
              "      <td>20639</td>\n",
              "      <td>37912</td>\n",
              "      <td>106269</td>\n",
              "      <td>186745</td>\n",
              "      <td>230950</td>\n",
              "    </tr>\n",
              "    <tr>\n",
              "      <th>919443</th>\n",
              "      <td>30574</td>\n",
              "      <td>to-read</td>\n",
              "      <td>18405</td>\n",
              "      <td>454565</td>\n",
              "      <td>Gone with the Wind</td>\n",
              "      <td>873981</td>\n",
              "      <td>897303</td>\n",
              "      <td>16050</td>\n",
              "      <td>19996</td>\n",
              "      <td>33136</td>\n",
              "      <td>116160</td>\n",
              "      <td>234290</td>\n",
              "      <td>493721</td>\n",
              "    </tr>\n",
              "    <tr>\n",
              "      <th>918388</th>\n",
              "      <td>30574</td>\n",
              "      <td>to-read</td>\n",
              "      <td>4981</td>\n",
              "      <td>443942</td>\n",
              "      <td>Slaughterhouse-Five, or The Children's Crusade...</td>\n",
              "      <td>846488</td>\n",
              "      <td>891762</td>\n",
              "      <td>19646</td>\n",
              "      <td>24964</td>\n",
              "      <td>45518</td>\n",
              "      <td>152442</td>\n",
              "      <td>300948</td>\n",
              "      <td>367890</td>\n",
              "    </tr>\n",
              "    <tr>\n",
              "      <th>918096</th>\n",
              "      <td>30574</td>\n",
              "      <td>to-read</td>\n",
              "      <td>930</td>\n",
              "      <td>436097</td>\n",
              "      <td>Memoirs of a Geisha</td>\n",
              "      <td>1300209</td>\n",
              "      <td>1418172</td>\n",
              "      <td>25605</td>\n",
              "      <td>23500</td>\n",
              "      <td>59033</td>\n",
              "      <td>258700</td>\n",
              "      <td>517157</td>\n",
              "      <td>559782</td>\n",
              "    </tr>\n",
              "  </tbody>\n",
              "</table>\n",
              "</div>"
            ],
            "text/plain": [
              "        tag_id tag_name  goodreads_book_id  ...  ratings_3 ratings_4  ratings_5\n",
              "918089   30574  to-read                865  ...     289143    412180     504212\n",
              "924145   30574  to-read            2429135  ...     285413    667485     836050\n",
              "927113   30574  to-read           18143977  ...      61020    185239     280832\n",
              "918007   30574  to-read                  3  ...     455024   1156318    3011543\n",
              "919676   30574  to-read              24280  ...      87461    167385     264147\n",
              "925851   30574  to-read           11235712  ...      66180    150914     206642\n",
              "922115   30574  to-read             168668  ...     106269    186745     230950\n",
              "919443   30574  to-read              18405  ...     116160    234290     493721\n",
              "918388   30574  to-read               4981  ...     152442    300948     367890\n",
              "918096   30574  to-read                930  ...     258700    517157     559782\n",
              "\n",
              "[10 rows x 13 columns]"
            ]
          },
          "metadata": {
            "tags": []
          },
          "execution_count": 6
        }
      ]
    },
    {
      "cell_type": "code",
      "metadata": {
        "colab": {
          "base_uri": "https://localhost:8080/",
          "height": 359
        },
        "id": "M6xrX6bhZHqH",
        "outputId": "329f9341-2e09-4a6c-c10d-49b020bd8ff7"
      },
      "source": [
        "bts = pd.merge(left=t, right=bt, how=\"left\", on=\"tag_id\")\n",
        "bts.drop(bts.loc[bts['count']<0].index, inplace=True)\n",
        "bts.sort_values(by='count', ascending=False).head(10)"
      ],
      "execution_count": 7,
      "outputs": [
        {
          "output_type": "execute_result",
          "data": {
            "text/html": [
              "<div>\n",
              "<style scoped>\n",
              "    .dataframe tbody tr th:only-of-type {\n",
              "        vertical-align: middle;\n",
              "    }\n",
              "\n",
              "    .dataframe tbody tr th {\n",
              "        vertical-align: top;\n",
              "    }\n",
              "\n",
              "    .dataframe thead th {\n",
              "        text-align: right;\n",
              "    }\n",
              "</style>\n",
              "<table border=\"1\" class=\"dataframe\">\n",
              "  <thead>\n",
              "    <tr style=\"text-align: right;\">\n",
              "      <th></th>\n",
              "      <th>tag_id</th>\n",
              "      <th>tag_name</th>\n",
              "      <th>goodreads_book_id</th>\n",
              "      <th>count</th>\n",
              "    </tr>\n",
              "  </thead>\n",
              "  <tbody>\n",
              "    <tr>\n",
              "      <th>918089</th>\n",
              "      <td>30574</td>\n",
              "      <td>to-read</td>\n",
              "      <td>865</td>\n",
              "      <td>596234</td>\n",
              "    </tr>\n",
              "    <tr>\n",
              "      <th>924145</th>\n",
              "      <td>30574</td>\n",
              "      <td>to-read</td>\n",
              "      <td>2429135</td>\n",
              "      <td>586235</td>\n",
              "    </tr>\n",
              "    <tr>\n",
              "      <th>927113</th>\n",
              "      <td>30574</td>\n",
              "      <td>to-read</td>\n",
              "      <td>18143977</td>\n",
              "      <td>505884</td>\n",
              "    </tr>\n",
              "    <tr>\n",
              "      <th>918007</th>\n",
              "      <td>30574</td>\n",
              "      <td>to-read</td>\n",
              "      <td>3</td>\n",
              "      <td>496107</td>\n",
              "    </tr>\n",
              "    <tr>\n",
              "      <th>919676</th>\n",
              "      <td>30574</td>\n",
              "      <td>to-read</td>\n",
              "      <td>24280</td>\n",
              "      <td>488469</td>\n",
              "    </tr>\n",
              "    <tr>\n",
              "      <th>925851</th>\n",
              "      <td>30574</td>\n",
              "      <td>to-read</td>\n",
              "      <td>11235712</td>\n",
              "      <td>474954</td>\n",
              "    </tr>\n",
              "    <tr>\n",
              "      <th>922115</th>\n",
              "      <td>30574</td>\n",
              "      <td>to-read</td>\n",
              "      <td>168668</td>\n",
              "      <td>465640</td>\n",
              "    </tr>\n",
              "    <tr>\n",
              "      <th>919443</th>\n",
              "      <td>30574</td>\n",
              "      <td>to-read</td>\n",
              "      <td>18405</td>\n",
              "      <td>454565</td>\n",
              "    </tr>\n",
              "    <tr>\n",
              "      <th>918388</th>\n",
              "      <td>30574</td>\n",
              "      <td>to-read</td>\n",
              "      <td>4981</td>\n",
              "      <td>443942</td>\n",
              "    </tr>\n",
              "    <tr>\n",
              "      <th>918096</th>\n",
              "      <td>30574</td>\n",
              "      <td>to-read</td>\n",
              "      <td>930</td>\n",
              "      <td>436097</td>\n",
              "    </tr>\n",
              "  </tbody>\n",
              "</table>\n",
              "</div>"
            ],
            "text/plain": [
              "        tag_id tag_name  goodreads_book_id   count\n",
              "918089   30574  to-read                865  596234\n",
              "924145   30574  to-read            2429135  586235\n",
              "927113   30574  to-read           18143977  505884\n",
              "918007   30574  to-read                  3  496107\n",
              "919676   30574  to-read              24280  488469\n",
              "925851   30574  to-read           11235712  474954\n",
              "922115   30574  to-read             168668  465640\n",
              "919443   30574  to-read              18405  454565\n",
              "918388   30574  to-read               4981  443942\n",
              "918096   30574  to-read                930  436097"
            ]
          },
          "metadata": {
            "tags": []
          },
          "execution_count": 7
        }
      ]
    },
    {
      "cell_type": "code",
      "metadata": {
        "colab": {
          "base_uri": "https://localhost:8080/",
          "height": 198
        },
        "id": "iKwOzwSXZHqH",
        "outputId": "2afcfa9a-9c1a-4d24-b496-f260782587b1"
      },
      "source": [
        "from wordcloud import WordCloud, STOPWORDS\n",
        "import matplotlib.pyplot as plt\n",
        "\n",
        "stopwords = set(STOPWORDS)\n",
        "\n",
        "text = \" \".join(review for review in bts['tag_name'])\n",
        "\n",
        "wordcloud = WordCloud(stopwords=stopwords, max_words=100, background_color='white').generate(text)\n",
        "\n",
        "plt.imshow(wordcloud, interpolation='bilinear')\n",
        "plt.axis(\"off\")\n",
        "plt.show()\n"
      ],
      "execution_count": 8,
      "outputs": [
        {
          "output_type": "display_data",
          "data": {
            "image/png": "[encoded data removed]",
            "text/plain": [
              "<Figure size 432x288 with 1 Axes>"
            ]
          },
          "metadata": {
            "tags": [],
            "needs_background": "light"
          }
        }
      ]
    },
    {
      "cell_type": "code",
      "metadata": {
        "colab": {
          "base_uri": "https://localhost:8080/"
        },
        "id": "itzHwQWTZHqI",
        "outputId": "db74c040-7dba-417b-dbf4-b0699626cc93"
      },
      "source": [
        "bts['tag_name'].value_counts().head(30)"
      ],
      "execution_count": 9,
      "outputs": [
        {
          "output_type": "execute_result",
          "data": {
            "text/plain": [
              "to-read              9983\n",
              "favorites            9881\n",
              "owned                9858\n",
              "books-i-own          9799\n",
              "currently-reading    9776\n",
              "library              9415\n",
              "owned-books          9221\n",
              "fiction              9097\n",
              "to-buy               8692\n",
              "kindle               8316\n",
              "default              8238\n",
              "ebook                8053\n",
              "my-books             7561\n",
              "audiobook            7242\n",
              "ebooks               7203\n",
              "wish-list            7192\n",
              "my-library           7000\n",
              "audiobooks           6862\n",
              "i-own                6670\n",
              "adult                6604\n",
              "audio                6548\n",
              "favourites           6422\n",
              "novels               5665\n",
              "own-it               5514\n",
              "contemporary         5287\n",
              "read-in-2015         5239\n",
              "series               5080\n",
              "e-book               4941\n",
              "read-in-2016         4940\n",
              "read-in-2014         4902\n",
              "Name: tag_name, dtype: int64"
            ]
          },
          "metadata": {
            "tags": []
          },
          "execution_count": 9
        }
      ]
    },
    {
      "cell_type": "code",
      "metadata": {
        "colab": {
          "base_uri": "https://localhost:8080/"
        },
        "id": "894aQDV9ZHqJ",
        "outputId": "7ea39203-f84e-4edd-9401-83f2996dfe95"
      },
      "source": [
        "r = pd.read_csv('/content/drive/MyDrive/data/ratings.csv')\n",
        "\n",
        "r.info()"
      ],
      "execution_count": 10,
      "outputs": [
        {
          "output_type": "stream",
          "text": [
            "<class 'pandas.core.frame.DataFrame'>\n",
            "RangeIndex: 5976479 entries, 0 to 5976478\n",
            "Data columns (total 3 columns):\n",
            " #   Column   Dtype\n",
            "---  ------   -----\n",
            " 0   user_id  int64\n",
            " 1   book_id  int64\n",
            " 2   rating   int64\n",
            "dtypes: int64(3)\n",
            "memory usage: 136.8 MB\n"
          ],
          "name": "stdout"
        }
      ]
    },
    {
      "cell_type": "code",
      "metadata": {
        "colab": {
          "base_uri": "https://localhost:8080/"
        },
        "id": "K9MYtlD_ZHqJ",
        "outputId": "62046e47-cd1f-4dec-ba15-1983c600fd6b"
      },
      "source": [
        "rsample = r.sample(frac=0.1, random_state=42)\n",
        "rsample.info()"
      ],
      "execution_count": 11,
      "outputs": [
        {
          "output_type": "stream",
          "text": [
            "<class 'pandas.core.frame.DataFrame'>\n",
            "Int64Index: 597648 entries, 3623535 to 4905054\n",
            "Data columns (total 3 columns):\n",
            " #   Column   Non-Null Count   Dtype\n",
            "---  ------   --------------   -----\n",
            " 0   user_id  597648 non-null  int64\n",
            " 1   book_id  597648 non-null  int64\n",
            " 2   rating   597648 non-null  int64\n",
            "dtypes: int64(3)\n",
            "memory usage: 18.2 MB\n"
          ],
          "name": "stdout"
        }
      ]
    },
    {
      "cell_type": "code",
      "metadata": {
        "colab": {
          "base_uri": "https://localhost:8080/"
        },
        "id": "A39s2pZda_w5",
        "outputId": "d2c8f9c9-eaae-46f5-a9a1-6a034ff27edb"
      },
      "source": [
        "rsample2 = rsample.sample(frac=0.05, random_state=43)\n",
        "rsample2.info()"
      ],
      "execution_count": 12,
      "outputs": [
        {
          "output_type": "stream",
          "text": [
            "<class 'pandas.core.frame.DataFrame'>\n",
            "Int64Index: 29882 entries, 1582989 to 1096260\n",
            "Data columns (total 3 columns):\n",
            " #   Column   Non-Null Count  Dtype\n",
            "---  ------   --------------  -----\n",
            " 0   user_id  29882 non-null  int64\n",
            " 1   book_id  29882 non-null  int64\n",
            " 2   rating   29882 non-null  int64\n",
            "dtypes: int64(3)\n",
            "memory usage: 933.8 KB\n"
          ],
          "name": "stdout"
        }
      ]
    },
    {
      "cell_type": "code",
      "metadata": {
        "colab": {
          "base_uri": "https://localhost:8080/"
        },
        "id": "XkjRQTcDZHqK",
        "outputId": "761a5ef9-8fb3-41d8-d2df-dd5c0c1225b5"
      },
      "source": [
        "from surprise import SVD\n",
        "from surprise import NormalPredictor, Dataset, Reader\n",
        "from surprise.model_selection import cross_validate\n",
        "\n",
        "# A reader is still needed but only the rating_scale param is requiered.\n",
        "reader = Reader(rating_scale=(1, 5))\n",
        "\n",
        "# The columns must correspond to user id, item id and ratings (in that order).\n",
        "data = Dataset.load_from_df(rsample[['user_id', 'book_id', 'rating']], reader)\n",
        "\n",
        "# Use the famous SVD algorithm.\n",
        "algo = SVD()\n",
        "\n",
        "# Run 5-fold cross-validation and print results.\n",
        "cross_validate(algo, data, measures=['RMSE', 'MAE'], cv=5, verbose=True)"
      ],
      "execution_count": 40,
      "outputs": [
        {
          "output_type": "stream",
          "text": [
            "Evaluating RMSE, MAE of algorithm SVD on 5 split(s).\n",
            "\n",
            "                  Fold 1  Fold 2  Fold 3  Fold 4  Fold 5  Mean    Std     \n",
            "RMSE (testset)    0.9067  0.9064  0.9094  0.9089  0.9085  0.9080  0.0012  \n",
            "MAE (testset)     0.7212  0.7197  0.7216  0.7229  0.7217  0.7214  0.0010  \n",
            "Fit time          30.10   31.43   30.44   31.28   30.22   30.70   0.55    \n",
            "Test time         1.82    1.76    1.40    1.78    1.77    1.71    0.15    \n"
          ],
          "name": "stdout"
        },
        {
          "output_type": "execute_result",
          "data": {
            "text/plain": [
              "{'fit_time': (30.1036376953125,\n",
              "  31.431005477905273,\n",
              "  30.442100763320923,\n",
              "  31.27960181236267,\n",
              "  30.223083019256592),\n",
              " 'test_mae': array([0.72123223, 0.71968545, 0.72164232, 0.72289219, 0.72167958]),\n",
              " 'test_rmse': array([0.90672875, 0.90636503, 0.90943159, 0.90889939, 0.90852038]),\n",
              " 'test_time': (1.817840337753296,\n",
              "  1.7641627788543701,\n",
              "  1.4019908905029297,\n",
              "  1.784806251525879,\n",
              "  1.765507698059082)}"
            ]
          },
          "metadata": {
            "tags": []
          },
          "execution_count": 40
        }
      ]
    },
    {
      "cell_type": "code",
      "metadata": {
        "colab": {
          "base_uri": "https://localhost:8080/"
        },
        "id": "A9TvgYTHZHqK",
        "outputId": "7e5ef34a-0ba9-4d1c-95f0-345606bc6a42"
      },
      "source": [
        "from surprise.model_selection import GridSearchCV\n",
        "\n",
        "param_grid = {\n",
        "    \"n_epochs\": [5, 10],\n",
        "    \"lr_all\": [0.002, 0.005],\n",
        "    \"reg_all\": [0.4, 0.6]\n",
        "}\n",
        "gs = GridSearchCV(SVD, param_grid, measures=[\"rmse\", \"mae\"], cv=3)\n",
        "\n",
        "gs.fit(data)\n",
        "\n",
        "print(gs.best_score[\"rmse\"])\n",
        "print(gs.best_params[\"rmse\"])"
      ],
      "execution_count": 41,
      "outputs": [
        {
          "output_type": "stream",
          "text": [
            "0.9199440595533425\n",
            "{'n_epochs': 10, 'lr_all': 0.005, 'reg_all': 0.4}\n"
          ],
          "name": "stdout"
        }
      ]
    },
    {
      "cell_type": "code",
      "metadata": {
        "colab": {
          "base_uri": "https://localhost:8080/"
        },
        "id": "ggRf0oTBa3nW",
        "outputId": "d9b604d2-9230-4826-f7ec-d03ec4bf7337"
      },
      "source": [
        "from surprise import KNNBasic\n",
        "from surprise import NormalPredictor, Dataset, Reader\n",
        "from surprise.model_selection import cross_validate\n",
        "\n",
        "# A reader is still needed but only the rating_scale param is requiered.\n",
        "reader = Reader(rating_scale=(1, 5))\n",
        "\n",
        "# The columns must correspond to user id, item id and ratings (in that order).\n",
        "data = Dataset.load_from_df(rsample2[['user_id', 'book_id', 'rating']], reader)\n",
        "\n",
        "# Use the famous SVD algorithm.\n",
        "algo = KNNBasic()\n",
        "\n",
        "# Run 5-fold cross-validation and print results.\n",
        "cross_validate(algo, data, measures=['RMSE', 'MAE'], cv=5, verbose=True)"
      ],
      "execution_count": 13,
      "outputs": [
        {
          "output_type": "stream",
          "text": [
            "Computing the msd similarity matrix...\n",
            "Done computing similarity matrix.\n",
            "Computing the msd similarity matrix...\n",
            "Done computing similarity matrix.\n",
            "Computing the msd similarity matrix...\n",
            "Done computing similarity matrix.\n",
            "Computing the msd similarity matrix...\n",
            "Done computing similarity matrix.\n",
            "Computing the msd similarity matrix...\n",
            "Done computing similarity matrix.\n",
            "Evaluating RMSE, MAE of algorithm KNNBasic on 5 split(s).\n",
            "\n",
            "                  Fold 1  Fold 2  Fold 3  Fold 4  Fold 5  Mean    Std     \n",
            "RMSE (testset)    1.0060  0.9999  0.9933  0.9849  0.9916  0.9951  0.0072  \n",
            "MAE (testset)     0.7896  0.7793  0.7751  0.7730  0.7775  0.7789  0.0058  \n",
            "Fit time          16.53   15.20   16.19   17.46   14.79   16.03   0.96    \n",
            "Test time         0.09    0.15    0.09    0.10    0.10    0.11    0.02    \n"
          ],
          "name": "stdout"
        },
        {
          "output_type": "execute_result",
          "data": {
            "text/plain": [
              "{'fit_time': (16.533117294311523,\n",
              "  15.195635557174683,\n",
              "  16.1863694190979,\n",
              "  17.461149215698242,\n",
              "  14.78565001487732),\n",
              " 'test_mae': array([0.78962255, 0.77926249, 0.77513413, 0.77300931, 0.77749782]),\n",
              " 'test_rmse': array([1.00603471, 0.9998546 , 0.99329667, 0.98485463, 0.99163064]),\n",
              " 'test_time': (0.09115815162658691,\n",
              "  0.15172696113586426,\n",
              "  0.09164166450500488,\n",
              "  0.10057449340820312,\n",
              "  0.09538102149963379)}"
            ]
          },
          "metadata": {
            "tags": []
          },
          "execution_count": 13
        }
      ]
    },
    {
      "cell_type": "code",
      "metadata": {
        "colab": {
          "base_uri": "https://localhost:8080/"
        },
        "id": "_Yts3IwJcfND",
        "outputId": "99e32306-3163-49ac-fa90-d98ce6f934bc"
      },
      "source": [
        "from surprise.model_selection import GridSearchCV\n",
        "\n",
        "param_grid = {\n",
        "    \"n_epochs\": [5, 10],\n",
        "    \"lr_all\": [0.002, 0.005],\n",
        "    \"reg_all\": [0.4, 0.6]\n",
        "}\n",
        "gs = GridSearchCV(KNNBasic, param_grid, measures=[\"rmse\", \"mae\"], cv=3)\n",
        "\n",
        "gs.fit(data)\n",
        "\n",
        "print(gs.best_score[\"rmse\"])\n",
        "print(gs.best_params[\"rmse\"])"
      ],
      "execution_count": 14,
      "outputs": [
        {
          "output_type": "stream",
          "text": [
            "Computing the msd similarity matrix...\n",
            "Done computing similarity matrix.\n",
            "Computing the msd similarity matrix...\n",
            "Done computing similarity matrix.\n",
            "Computing the msd similarity matrix...\n",
            "Done computing similarity matrix.\n",
            "Computing the msd similarity matrix...\n",
            "Done computing similarity matrix.\n",
            "Computing the msd similarity matrix...\n",
            "Done computing similarity matrix.\n",
            "Computing the msd similarity matrix...\n",
            "Done computing similarity matrix.\n",
            "Computing the msd similarity matrix...\n",
            "Done computing similarity matrix.\n",
            "Computing the msd similarity matrix...\n",
            "Done computing similarity matrix.\n",
            "Computing the msd similarity matrix...\n",
            "Done computing similarity matrix.\n",
            "Computing the msd similarity matrix...\n",
            "Done computing similarity matrix.\n",
            "Computing the msd similarity matrix...\n",
            "Done computing similarity matrix.\n",
            "Computing the msd similarity matrix...\n",
            "Done computing similarity matrix.\n",
            "Computing the msd similarity matrix...\n",
            "Done computing similarity matrix.\n",
            "Computing the msd similarity matrix...\n",
            "Done computing similarity matrix.\n",
            "Computing the msd similarity matrix...\n",
            "Done computing similarity matrix.\n",
            "Computing the msd similarity matrix...\n",
            "Done computing similarity matrix.\n",
            "Computing the msd similarity matrix...\n",
            "Done computing similarity matrix.\n",
            "Computing the msd similarity matrix...\n",
            "Done computing similarity matrix.\n",
            "Computing the msd similarity matrix...\n",
            "Done computing similarity matrix.\n",
            "Computing the msd similarity matrix...\n",
            "Done computing similarity matrix.\n",
            "Computing the msd similarity matrix...\n",
            "Done computing similarity matrix.\n",
            "Computing the msd similarity matrix...\n",
            "Done computing similarity matrix.\n",
            "Computing the msd similarity matrix...\n",
            "Done computing similarity matrix.\n",
            "Computing the msd similarity matrix...\n",
            "Done computing similarity matrix.\n",
            "0.9944045460328633\n",
            "{'n_epochs': 5, 'lr_all': 0.002, 'reg_all': 0.4}\n"
          ],
          "name": "stdout"
        }
      ]
    }
  ]
}